{
 "cells": [
  {
   "cell_type": "markdown",
   "metadata": {},
   "source": [
    "# **Cleaning Data**"
   ]
  },
  {
   "cell_type": "code",
   "execution_count": 6,
   "metadata": {},
   "outputs": [],
   "source": [
    "import pandas as pd\n",
    "import os\n",
    "import re\n",
    "import string"
   ]
  },
  {
   "cell_type": "code",
   "execution_count": 7,
   "metadata": {},
   "outputs": [],
   "source": [
    "# RUN THIS JUST TO CONCATE ALL THE DATASET TOGETHER\n",
    "data = []\n",
    "BASE ='Datasets/'\n",
    "for file in os.listdir(BASE):\n",
    "    if file != 'concatenated' and file != 'labeled':\n",
    "        data.append(pd.read_csv(BASE+file))\n",
    "df = pd.concat([x for x in data])\n",
    "\n",
    "df.to_csv(BASE+'concatenated/full_tweetdata.csv', index=False)"
   ]
  },
  {
   "cell_type": "code",
   "execution_count": 8,
   "metadata": {},
   "outputs": [],
   "source": [
    "# func to remove unnecessary text patterns\n",
    "def remove_link(text):\n",
    "    return re.sub(r\"https.*$\", '', text)\n",
    "def remove_account(text):\n",
    "    return re.sub(r\"@\\S*\", '', text)\n",
    "def remove_punc(text):\n",
    "    return text.translate(str.maketrans('', '', string.punctuation)).rstrip()\n",
    "def remove_certain_emoji(text):\n",
    "    emoji = r\"‍💨|😀|😃|😄|😁|😆|😅|🤣|😂|🙂|🙃|🫠|😉|😊|😇|🥰|😍|🤩|😘|😗|☺️|😚|😙|🥲|😋|😛|😜|🤪|😝|🤑|🤗|🤭|🫢|🫣|🤫|🤔|🫡|🤐|🤨|😐|😑|😶|🫥|😶|😏|😒|🙄|😬|😮|🤥|😌|😔|😪|🤤|😴|😷|🤒|🤕|🤢|🤮|🤧|🥵|🥶|🥴|😵|😵|🤯|🤠|🥳|🥸|😎|🤓|🧐|😕|🫤|😟|🙁|☹️|😮|😯|😲|😳|🥺|🥹|😦|😧|😨|😰|😥|😢|😭|😱|😖|😣|😞|😓|😩|😫|🥱|😤|😡|😠|🤬|😈|👿|💀|☠️|💩|🤡|👹|👺|👻|👽|👾|🤖|😺|😸|😹|😻|😼|😽|🙀|😿|😾|💋|👋|🤚|🖐|✋ |🖖|🫱|🫲|🫳|🫴|👌|🤌|🤏|✌️|🤞|🫰|🤟|🤘|🤙|👈|👉|👆|🖕|👇|☝️|🫵|👍|👎|✊ |👊|🤛|🤜|👏|🙌|🫶|👐|🤲|🤝|🙏|✍️|💅|🤳|💪|🦾|🦿|🦵|🦶|👂|🦻|👃|🧠|🫀|🫁|🦷|🦴|👀|👁|👅|👄|🫦|👶|🧒|👦|👧|🧑|👱|👨|🧔|👨|👨|👨|👨|👩|👩|🧑|👩|🧑|👩|🧑|👩|🧑|👱|👱|🧓|👴|👵|🙍|🙍|🙍|🙎|🙎|🙎|🙅|🙅|🙅|🙆|🙆|🙆|💁|💁|💁|🙋|🙋|🙋|🧏|🧏|🧏|🙇|🙇|🙇|🤦|🤦|🤦|🤷|🤷|🤷|🧑|👨|👩|🧑|👨|👩|🧑|👨|👩|🧑|👨|👩|🧑|👨|👩|🧑|👨|👩|🧑|👨|👩|🧑|👨|👩|🧑|👨|👩|🧑|👨|👩|🧑|👨|👩|🧑|👨|👩|🧑|👨|👩|🧑|👨|👩|🧑|👨|👩|🧑|👨|👩|👮|👮|👮|🕵|🕵|🕵|💂|💂|💂|🥷|👷|👷|👷|🫅|🤴|👸|👳|👳|👳|👲|🧕|🤵|🤵|🤵|👰|👰|👰|🤰|🫃|🫄|🤱|👩|👨|🧑|👼|🎅|🤶|🧑|🦸|🦸|🦸|🦹|🦹|🦹|🧙|🧙|🧙|🧚|🧚|🧚|🧛|🧛|🧛|🧜|🧜|🧜|🧝|🧝|🧝|🧞|🧞|🧞|🧟|🧟|🧟|🧌|💆|💆|💆|💇|💇|💇|🚶|🚶|🚶|🧍|🧍|🧍|🧎|🧎|🧎|🧑|👨|👩|🧑|👨|👩|🧑|👨|👩|🏃|🏃|🏃|💃|🕺|🕴|👯|👯|👯|🧖|🧖|🧖|🧘|🧑|👭|👫|👬|💏|👩|👨|👩|💑|👩|👨|👩|👪|👨|👨|👨|👨|👨|👨|👨|👨|👨|👨|👩|👩|👩|👩|👩|👨|👨|👨|👨|👨|👩|👩|👩|👩|👩|🗣|👤|👥|🫂|👣|🧳|🌂|☂️|🎃|🧵|🧶|👓|🕶|🥽|🥼|🦺|👔|👕|👖|🧣|🧤|🧥|🧦|👗|👘|🥻|🩱|🩲|🩳|👙|👚|👛|👜|👝|🎒|🩴|👞|👟|🥾|🥿|👠|👡|🩰|👢|👑|👒|🎩|🎓|🧢|🪖|⛑️|💄|💍|💼|🩸\"\n",
    "    return re.sub(emoji, '', text).rstrip()\n",
    "def remove_emojis(data):\n",
    "    emoj = re.compile(\"[\"\n",
    "        u\"\\U0001F600-\\U0001F64F\"  # emoticons\n",
    "        u\"\\U0001F300-\\U0001F5FF\"  # symbols & pictographs\n",
    "        u\"\\U0001F680-\\U0001F6FF\"  # transport & map symbols\n",
    "        u\"\\U0001F1E0-\\U0001F1FF\"  # flags (iOS)\n",
    "        u\"\\U00002500-\\U00002BEF\"  # chinese char\n",
    "        u\"\\U00002702-\\U000027B0\"\n",
    "        u\"\\U00002702-\\U000027B0\"\n",
    "        u\"\\U000024C2-\\U0001F251\"\n",
    "        u\"\\U0001f926-\\U0001f937\"\n",
    "        u\"\\U00010000-\\U0010ffff\"\n",
    "        u\"\\u2640-\\u2642\" \n",
    "        u\"\\u2600-\\u2B55\"\n",
    "        u\"\\u200d\"\n",
    "        u\"\\u23cf\"\n",
    "        u\"\\u23e9\"\n",
    "        u\"\\u231a\"\n",
    "        u\"\\ufe0f\"  # dingbats\n",
    "        u\"\\u3030\"\n",
    "                      \"]+\", re.UNICODE)\n",
    "    return re.sub(emoj, '', data)\n",
    "def remove_rt_tag(text):\n",
    "    return re.sub(r\"^RT.*:\", '', text).lstrip()\n",
    "def remove_hash_tag(text):\n",
    "    return re.sub(r\"(#\\S+\\s?)\", '', text).lstrip().rstrip()\n",
    "def remove_char(text):\n",
    "    return text.replace('\\r', '').replace('\\n', '')\n",
    "def clean_text(df, text_field):\n",
    "    df[text_field] = df[text_field].str.lower()\n",
    "    df[text_field] = df[text_field].apply(lambda elem: re.sub(r\"(@[A-Za-z0–9]+)|([0-9A-Za-z \\t])|(\\w+:\\/\\/\\S+)|^RT|http.+?\", \"\", elem))\n",
    "    return df"
   ]
  },
  {
   "cell_type": "markdown",
   "metadata": {},
   "source": [
    "Cleaning data (Stemming & Stopwords)"
   ]
  },
  {
   "cell_type": "code",
   "execution_count": 9,
   "metadata": {},
   "outputs": [],
   "source": [
    "# !pip install ntlk"
   ]
  },
  {
   "cell_type": "code",
   "execution_count": 10,
   "metadata": {},
   "outputs": [
    {
     "name": "stderr",
     "output_type": "stream",
     "text": [
      "[nltk_data] Downloading package stopwords to\n",
      "[nltk_data]     C:\\Users\\iqbal\\AppData\\Roaming\\nltk_data...\n",
      "[nltk_data]   Package stopwords is already up-to-date!\n"
     ]
    },
    {
     "data": {
      "text/plain": [
       "True"
      ]
     },
     "execution_count": 10,
     "metadata": {},
     "output_type": "execute_result"
    }
   ],
   "source": [
    "import nltk\n",
    "from nltk.corpus import stopwords\n",
    "from  nltk.stem import SnowballStemmer\n",
    "\n",
    "nltk.download('stopwords')"
   ]
  },
  {
   "cell_type": "code",
   "execution_count": 11,
   "metadata": {},
   "outputs": [],
   "source": [
    "stop_words = stopwords.words(\"english\")\n",
    "stemmer = SnowballStemmer(\"english\")"
   ]
  },
  {
   "cell_type": "code",
   "execution_count": 13,
   "metadata": {},
   "outputs": [],
   "source": [
    "TEXT_CLEANING_RE = \"@\\S+|https?:\\S+|http?:\\S|[^A-Za-z0-9]+\""
   ]
  },
  {
   "cell_type": "code",
   "execution_count": 12,
   "metadata": {},
   "outputs": [],
   "source": [
    "def preprocess(text, stem=False):\n",
    "    # Remove link,user and special characters\n",
    "    text = re.sub(TEXT_CLEANING_RE, ' ', str(text).lower()).strip()\n",
    "    tokens = []\n",
    "    for token in text.split():\n",
    "        if token not in stop_words:\n",
    "            if stem:\n",
    "                tokens.append(stemmer.stem(token))\n",
    "            else:\n",
    "                tokens.append(token)\n",
    "    return \" \".join(tokens)"
   ]
  },
  {
   "cell_type": "code",
   "execution_count": 18,
   "metadata": {},
   "outputs": [
    {
     "name": "stdout",
     "output_type": "stream",
     "text": [
      "CPU times: total: 0 ns\n",
      "Wall time: 0 ns\n"
     ]
    }
   ],
   "source": [
    "%%time\n",
    "def clean_all(df):\n",
    "    df_clean = df\n",
    "    df_clean['texts'] = [remove_account(x) for x in df_clean['texts']]\n",
    "    df_clean['texts'] = [remove_link(x) for x in df_clean['texts']]\n",
    "    df_clean['texts'] = [remove_certain_emoji(x) for x in df_clean['texts']]\n",
    "    df_clean['texts'] = [remove_emojis(x) for x in df_clean['texts']]\n",
    "    df_clean['texts'] = [remove_rt_tag(x) for x in df_clean['texts']]\n",
    "    df_clean['texts'] = [remove_hash_tag(x) for x in df_clean['texts']]\n",
    "    df_clean['texts'] = [remove_punc(x) for x in df_clean['texts']]\n",
    "    df_clean['texts'] = [remove_char(x) for x in df_clean['texts']]\n",
    "    df_clean['texts'] = [x.lower() for x in df_clean['texts']]\n",
    "    df_clean.texts = df_clean.texts.apply(lambda x: preprocess(x))\n",
    "    df_clean.head(10)\n",
    "    return df_clean"
   ]
  },
  {
   "cell_type": "code",
   "execution_count": 5,
   "metadata": {},
   "outputs": [
    {
     "data": {
      "text/html": [
       "<div>\n",
       "<style scoped>\n",
       "    .dataframe tbody tr th:only-of-type {\n",
       "        vertical-align: middle;\n",
       "    }\n",
       "\n",
       "    .dataframe tbody tr th {\n",
       "        vertical-align: top;\n",
       "    }\n",
       "\n",
       "    .dataframe thead th {\n",
       "        text-align: right;\n",
       "    }\n",
       "</style>\n",
       "<table border=\"1\" class=\"dataframe\">\n",
       "  <thead>\n",
       "    <tr style=\"text-align: right;\">\n",
       "      <th></th>\n",
       "      <th>texts</th>\n",
       "      <th>created_at</th>\n",
       "      <th>location</th>\n",
       "    </tr>\n",
       "  </thead>\n",
       "  <tbody>\n",
       "    <tr>\n",
       "      <th>0</th>\n",
       "      <td>@vaarufj @KonstantinKisin The hostility is war...</td>\n",
       "      <td>2022-10-03</td>\n",
       "      <td>Noemaville</td>\n",
       "    </tr>\n",
       "    <tr>\n",
       "      <th>1</th>\n",
       "      <td>@rohini_sgh The reference of \"hate\" never seem...</td>\n",
       "      <td>2022-10-03</td>\n",
       "      <td>NaN</td>\n",
       "    </tr>\n",
       "    <tr>\n",
       "      <th>2</th>\n",
       "      <td>I love edits of Goku where he's muslim</td>\n",
       "      <td>2022-10-03</td>\n",
       "      <td>NaN</td>\n",
       "    </tr>\n",
       "    <tr>\n",
       "      <th>3</th>\n",
       "      <td>@KFILE A 1400-year-old secret about Pakistan –...</td>\n",
       "      <td>2022-10-03</td>\n",
       "      <td>NaN</td>\n",
       "    </tr>\n",
       "    <tr>\n",
       "      <th>4</th>\n",
       "      <td>This is facts. The narrative is “Islam hasn’t ...</td>\n",
       "      <td>2022-10-03</td>\n",
       "      <td>Bronx, NY</td>\n",
       "    </tr>\n",
       "  </tbody>\n",
       "</table>\n",
       "</div>"
      ],
      "text/plain": [
       "                                               texts  created_at    location\n",
       "0  @vaarufj @KonstantinKisin The hostility is war...  2022-10-03  Noemaville\n",
       "1  @rohini_sgh The reference of \"hate\" never seem...  2022-10-03         NaN\n",
       "2             I love edits of Goku where he's muslim  2022-10-03         NaN\n",
       "3  @KFILE A 1400-year-old secret about Pakistan –...  2022-10-03         NaN\n",
       "4  This is facts. The narrative is “Islam hasn’t ...  2022-10-03   Bronx, NY"
      ]
     },
     "execution_count": 5,
     "metadata": {},
     "output_type": "execute_result"
    }
   ],
   "source": [
    "df = pd.read_csv(BASE+'concatenated/full_tweetdata.csv')\n",
    "df.head(5)"
   ]
  },
  {
   "cell_type": "markdown",
   "metadata": {},
   "source": [
    "Data tweet (Unlabeled)"
   ]
  },
  {
   "cell_type": "code",
   "execution_count": 1,
   "metadata": {},
   "outputs": [
    {
     "ename": "NameError",
     "evalue": "name 'pd' is not defined",
     "output_type": "error",
     "traceback": [
      "\u001b[1;31m---------------------------------------------------------------------------\u001b[0m",
      "\u001b[1;31mNameError\u001b[0m                                 Traceback (most recent call last)",
      "Cell \u001b[1;32mIn [1], line 2\u001b[0m\n\u001b[0;32m      1\u001b[0m \u001b[39m# USE THIS INSTEAD\u001b[39;00m\n\u001b[1;32m----> 2\u001b[0m df \u001b[39m=\u001b[39m pd\u001b[39m.\u001b[39mread_csv(BASE\u001b[39m+\u001b[39m\u001b[39m'\u001b[39m\u001b[39mconcatenated/full_tweetdata.csv\u001b[39m\u001b[39m'\u001b[39m)\n\u001b[0;32m      3\u001b[0m \u001b[39m# CLEAN LOCATION VALUE\u001b[39;00m\n\u001b[0;32m      4\u001b[0m countries \u001b[39m=\u001b[39m \u001b[39m\"\"\"\u001b[39m\u001b[39mAF|Afghanistan\u001b[39m\n\u001b[0;32m      5\u001b[0m \u001b[39mAL|Albania\u001b[39m\n\u001b[0;32m      6\u001b[0m \u001b[39mDZ|Algeria\u001b[39m\n\u001b[1;32m   (...)\u001b[0m\n\u001b[0;32m    239\u001b[0m \u001b[39mZM|Zambia\u001b[39m\n\u001b[0;32m    240\u001b[0m \u001b[39mZW|Zimbabwe\u001b[39m\u001b[39m\"\"\"\u001b[39m\n",
      "\u001b[1;31mNameError\u001b[0m: name 'pd' is not defined"
     ]
    }
   ],
   "source": [
    "# USE THIS INSTEAD\n",
    "df = pd.read_csv(BASE+'concatenated/full_tweetdata.csv')\n",
    "# CLEAN LOCATION VALUE\n",
    "countries = \"\"\"AF|Afghanistan\n",
    "AL|Albania\n",
    "DZ|Algeria\n",
    "AS|American Samoa\n",
    "AD|Andorra\n",
    "AO|Angola\n",
    "AI|Anguilla\n",
    "AQ|Antarctica\n",
    "AG|Antigua And Barbuda\n",
    "AR|Argentina\n",
    "AM|Armenia\n",
    "AW|Aruba\n",
    "AU|Australia\n",
    "AT|Austria\n",
    "AZ|Azerbaijan\n",
    "BS|Bahamas\n",
    "BH|Bahrain\n",
    "BD|Bangladesh\n",
    "BB|Barbados\n",
    "BY|Belarus\n",
    "BE|Belgium\n",
    "BZ|Belize\n",
    "BJ|Benin\n",
    "BM|Bermuda\n",
    "BT|Bhutan\n",
    "BO|Bolivia\n",
    "BA|Bosnia And Herzegovina\n",
    "BW|Botswana\n",
    "BV|Bouvet Island\n",
    "BR|Brazil\n",
    "IO|British Indian Ocean Territory\n",
    "BN|Brunei Darussalam\n",
    "BG|Bulgaria\n",
    "BF|Burkina Faso\n",
    "BI|Burundi\n",
    "KH|Cambodia\n",
    "CM|Cameroon\n",
    "CA|Canada\n",
    "CV|Cape Verde\n",
    "KY|Cayman Islands\n",
    "CF|Central African\n",
    "TD|Chad\n",
    "CL|Chile\n",
    "CN|China\n",
    "CX|Christmas Island\n",
    "CC|Cocos (keeling) Islands\n",
    "CO|Colombia\n",
    "KM|Comoros\n",
    "CG|Congo\n",
    "CD|Congo\n",
    "CK|Cook Islands\n",
    "CR|Costa Rica\n",
    "CI|Cote D'ivoire\n",
    "HR|Croatia\n",
    "CU|Cuba\n",
    "CY|Cyprus\n",
    "CZ|Czech Republic\n",
    "DK|Denmark\n",
    "DJ|Djibouti\n",
    "DM|Dominica\n",
    "DO|Dominican Republic\n",
    "TP|East Timor\n",
    "EC|Ecuador\n",
    "EG|Egypt\n",
    "SV|El Salvador\n",
    "GQ|Equatorial Guinea\n",
    "ER|Eritrea\n",
    "EE|Estonia\n",
    "ET|Ethiopia\n",
    "FK|Falkland\n",
    "FO|Faroe\n",
    "FJ|Fiji\n",
    "FI|Finland\n",
    "EN|England\n",
    "FR|France\n",
    "GF|French\n",
    "GA|Gabon\n",
    "GM|Gambia\n",
    "GE|Georgia\n",
    "DE|Germany\n",
    "GH|Ghana\n",
    "GI|Gibraltar\n",
    "GR|Greece\n",
    "GL|Greenland\n",
    "GD|Grenada\n",
    "GP|Guadeloupe\n",
    "GU|Guam\n",
    "GT|Guatemala\n",
    "GN|Guinea\n",
    "GW|Guinea-bissau\n",
    "GY|Guyana\n",
    "HT|Haiti\n",
    "HM|Heard Island And Mcdonald Islands\n",
    "VA|Vatican\n",
    "HN|Honduras\n",
    "HK|Hong Kong\n",
    "HU|Hungary\n",
    "IS|Iceland\n",
    "IN|India\n",
    "ID|Indonesia\n",
    "IR|Iran\n",
    "IQ|Iraq\n",
    "IE|Ireland\n",
    "IL|Israel\n",
    "IT|Italy\n",
    "JM|Jamaica\n",
    "JP|Japan\n",
    "JO|Jordan\n",
    "KZ|Kazakstan\n",
    "KE|Kenya\n",
    "KI|Kiribati\n",
    "KP|Korea\n",
    "KR|Korea\n",
    "KV|Kosovo\n",
    "KW|Kuwait\n",
    "KG|Kyrgyzstan\n",
    "LA|Lao People's Democratic Republic\n",
    "LV|Latvia\n",
    "LB|Lebanon\n",
    "LS|Lesotho\n",
    "LR|Liberia\n",
    "LY|Libyan Arab Jamahiriya\n",
    "LI|Liechtenstein\n",
    "LT|Lithuania\n",
    "LU|Luxembourg\n",
    "MO|Macau\n",
    "MK|Macedonia\n",
    "MG|Madagascar\n",
    "MW|Malawi\n",
    "MY|Malaysia\n",
    "MV|Maldives\n",
    "ML|Mali\n",
    "MT|Malta\n",
    "MH|Marshall Islands\n",
    "MQ|Martinique\n",
    "MR|Mauritania\n",
    "MU|Mauritius\n",
    "YT|Mayotte\n",
    "MX|Mexico\n",
    "FM|Micronesia\n",
    "MD|Moldova\n",
    "MC|Monaco\n",
    "MN|Mongolia\n",
    "MS|Montserrat\n",
    "ME|Montenegro\n",
    "MA|Morocco\n",
    "MZ|Mozambique\n",
    "MM|Myanmar\n",
    "NA|Namibia\n",
    "NR|Nauru\n",
    "NP|Nepal\n",
    "NL|Netherlands\n",
    "AN|Netherlands Antilles\n",
    "NC|New Caledonia\n",
    "NZ|New Zealand\n",
    "NI|Nicaragua\n",
    "NG|Nigeria\n",
    "NU|Niue\n",
    "NF|Norfolk Island\n",
    "MP|Northern Mariana Islands\n",
    "NO|Norway\n",
    "OM|Oman\n",
    "PK|Pakistan\n",
    "PW|Palau\n",
    "PS|Palestine\n",
    "PA|Panama\n",
    "PG|Papua New Guinea\n",
    "PY|Paraguay\n",
    "PE|Peru\n",
    "PH|Philippines\n",
    "PN|Pitcairn\n",
    "PL|Poland\n",
    "PT|Portugal\n",
    "PR|Puerto Rico\n",
    "QA|Qatar\n",
    "RE|Reunion\n",
    "RO|Romania\n",
    "RU|Russian Federation\n",
    "RW|Rwanda\n",
    "SH|Saint Helena\n",
    "KN|Saint Kitts And Nevis\n",
    "LC|Saint Lucia\n",
    "PM|Saint Pierre And Miquelon\n",
    "VC|Saint Vincent And The Grenadines\n",
    "WS|Samoa\n",
    "SM|San Marino\n",
    "ST|Sao Tome And Principe\n",
    "SA|Saudi Arabia\n",
    "SN|Senegal\n",
    "RS|Serbia\n",
    "SC|Seychelles\n",
    "SL|Sierra Leone\n",
    "SG|Singapore\n",
    "SK|Slovakia\n",
    "SI|Slovenia\n",
    "SB|Solomon Islands\n",
    "SO|Somalia\n",
    "ZA|South Africa\n",
    "GS|South Georgia And The South Sandwich Islands\n",
    "ES|Spain\n",
    "LK|Sri Lanka\n",
    "SD|Sudan\n",
    "SR|Suriname\n",
    "SJ|Svalbard And Jan Mayen\n",
    "SZ|Swaziland\n",
    "SE|Sweden\n",
    "CH|Switzerland\n",
    "SY|Syrian Arab Republic\n",
    "TW|Taiwan\n",
    "TJ|Tajikistan\n",
    "TZ|Tanzania\n",
    "TH|Thailand\n",
    "TG|Togo\n",
    "TK|Tokelau\n",
    "TO|Tonga\n",
    "TT|Trinidad And Tobago\n",
    "TN|Tunisia\n",
    "TR|Turkey\n",
    "TM|Turkmenistan\n",
    "TC|Turks And Caicos Islands\n",
    "TV|Tuvalu\n",
    "UG|Uganda\n",
    "UA|Ukraine\n",
    "AE|United Arab Emirates\n",
    "UK|United Kingdom\n",
    "US|United States\n",
    "UY|Uruguay\n",
    "UZ|Uzbekistan\n",
    "VU|Vanuatu\n",
    "VE|Venezuela\n",
    "VN|Viet Nam\n",
    "VG|Virgin Islands\n",
    "WF|Wallis And Futuna\n",
    "EH|Western Sahara\n",
    "YE|Yemen\n",
    "ZM|Zambia\n",
    "ZW|Zimbabwe\"\"\"\n",
    "countries = [e[3:] for e in countries.split(\"\\n\")]\n",
    "for each in countries:\n",
    "    df.loc[df['location'].str.contains(each, case=False, na=False), 'location'] = each"
   ]
  },
  {
   "cell_type": "code",
   "execution_count": 20,
   "metadata": {},
   "outputs": [
    {
     "data": {
      "text/plain": [
       "NaN                 9684\n",
       "Nigeria              634\n",
       "India                616\n",
       "England              570\n",
       "Pakistan             391\n",
       "Indonesia            252\n",
       "Canada               218\n",
       "United States        201\n",
       "Australia            181\n",
       "United Kingdom       156\n",
       "UAE                   95\n",
       "USA                   93\n",
       "London                77\n",
       "Toronto, Ontario      77\n",
       "Bangladesh            68\n",
       "Tunisia               67\n",
       "UK                    65\n",
       "Los Angeles, CA       64\n",
       "Uni Emirat Arab       57\n",
       "Washington, DC        54\n",
       "Name: location, dtype: int64"
      ]
     },
     "execution_count": 20,
     "metadata": {},
     "output_type": "execute_result"
    }
   ],
   "source": [
    "occur = df['location'].value_counts(dropna=False)\n",
    "occur.head(20)"
   ]
  },
  {
   "cell_type": "code",
   "execution_count": 21,
   "metadata": {},
   "outputs": [],
   "source": [
    "df = clean_all(df)\n",
    "df.to_csv(BASE+'concatenated/clean_full_tweetdata.csv', index = False)"
   ]
  },
  {
   "cell_type": "markdown",
   "metadata": {},
   "source": [
    "Labeled sentiment data"
   ]
  },
  {
   "cell_type": "code",
   "execution_count": 25,
   "metadata": {},
   "outputs": [
    {
     "data": {
      "text/html": [
       "<div>\n",
       "<style scoped>\n",
       "    .dataframe tbody tr th:only-of-type {\n",
       "        vertical-align: middle;\n",
       "    }\n",
       "\n",
       "    .dataframe tbody tr th {\n",
       "        vertical-align: top;\n",
       "    }\n",
       "\n",
       "    .dataframe thead th {\n",
       "        text-align: right;\n",
       "    }\n",
       "</style>\n",
       "<table border=\"1\" class=\"dataframe\">\n",
       "  <thead>\n",
       "    <tr style=\"text-align: right;\">\n",
       "      <th></th>\n",
       "      <th>texts</th>\n",
       "      <th>category</th>\n",
       "    </tr>\n",
       "  </thead>\n",
       "  <tbody>\n",
       "    <tr>\n",
       "      <th>0</th>\n",
       "      <td>when modi promised “minimum government maximum...</td>\n",
       "      <td>-1.0</td>\n",
       "    </tr>\n",
       "    <tr>\n",
       "      <th>1</th>\n",
       "      <td>talk all the nonsense and continue all the dra...</td>\n",
       "      <td>0.0</td>\n",
       "    </tr>\n",
       "    <tr>\n",
       "      <th>2</th>\n",
       "      <td>what did just say vote for modi  welcome bjp t...</td>\n",
       "      <td>1.0</td>\n",
       "    </tr>\n",
       "    <tr>\n",
       "      <th>3</th>\n",
       "      <td>asking his supporters prefix chowkidar their n...</td>\n",
       "      <td>1.0</td>\n",
       "    </tr>\n",
       "    <tr>\n",
       "      <th>4</th>\n",
       "      <td>answer who among these the most powerful world...</td>\n",
       "      <td>1.0</td>\n",
       "    </tr>\n",
       "    <tr>\n",
       "      <th>...</th>\n",
       "      <td>...</td>\n",
       "      <td>...</td>\n",
       "    </tr>\n",
       "    <tr>\n",
       "      <th>162975</th>\n",
       "      <td>why these 456 crores paid neerav modi not reco...</td>\n",
       "      <td>-1.0</td>\n",
       "    </tr>\n",
       "    <tr>\n",
       "      <th>162976</th>\n",
       "      <td>dear rss terrorist payal gawar what about modi...</td>\n",
       "      <td>-1.0</td>\n",
       "    </tr>\n",
       "    <tr>\n",
       "      <th>162977</th>\n",
       "      <td>did you cover her interaction forum where she ...</td>\n",
       "      <td>0.0</td>\n",
       "    </tr>\n",
       "    <tr>\n",
       "      <th>162978</th>\n",
       "      <td>there big project came into india modi dream p...</td>\n",
       "      <td>0.0</td>\n",
       "    </tr>\n",
       "    <tr>\n",
       "      <th>162979</th>\n",
       "      <td>have you ever listen about like gurukul where ...</td>\n",
       "      <td>1.0</td>\n",
       "    </tr>\n",
       "  </tbody>\n",
       "</table>\n",
       "<p>162980 rows × 2 columns</p>\n",
       "</div>"
      ],
      "text/plain": [
       "                                                    texts  category\n",
       "0       when modi promised “minimum government maximum...      -1.0\n",
       "1       talk all the nonsense and continue all the dra...       0.0\n",
       "2       what did just say vote for modi  welcome bjp t...       1.0\n",
       "3       asking his supporters prefix chowkidar their n...       1.0\n",
       "4       answer who among these the most powerful world...       1.0\n",
       "...                                                   ...       ...\n",
       "162975  why these 456 crores paid neerav modi not reco...      -1.0\n",
       "162976  dear rss terrorist payal gawar what about modi...      -1.0\n",
       "162977  did you cover her interaction forum where she ...       0.0\n",
       "162978  there big project came into india modi dream p...       0.0\n",
       "162979  have you ever listen about like gurukul where ...       1.0\n",
       "\n",
       "[162980 rows x 2 columns]"
      ]
     },
     "execution_count": 25,
     "metadata": {},
     "output_type": "execute_result"
    }
   ],
   "source": [
    "# Jalanin ini kalau mau membersihkan data yang sudah di labeli\n",
    "df = pd.read_csv(\"Datasets/labeled/labeled_data_tweet.csv\")\n",
    "df.rename(columns={'clean_text': 'texts'}, inplace=True)\n",
    "df"
   ]
  },
  {
   "cell_type": "code",
   "execution_count": 28,
   "metadata": {},
   "outputs": [
    {
     "data": {
      "text/plain": [
       "texts       0\n",
       "category    0\n",
       "dtype: int64"
      ]
     },
     "execution_count": 28,
     "metadata": {},
     "output_type": "execute_result"
    }
   ],
   "source": [
    "df.dropna(inplace=True)\n",
    "df.isnull().sum()"
   ]
  },
  {
   "cell_type": "code",
   "execution_count": 29,
   "metadata": {},
   "outputs": [],
   "source": [
    "df = clean_all(df)\n",
    "df.to_csv(BASE+'labeled/clean_labeled_data_tweet.csv', index = False)"
   ]
  },
  {
   "cell_type": "markdown",
   "metadata": {},
   "source": [
    "Bawah ini keknya ga guna"
   ]
  },
  {
   "cell_type": "code",
   "execution_count": null,
   "metadata": {},
   "outputs": [
    {
     "name": "stdout",
     "output_type": "stream",
     "text": [
      "barusan lihat tulisan truk rela injek kopling belanja\n",
      "her lo miss kevin keven berebut gimbot ya beli 2 the kembar asyik main ipad masin\n",
      "iya rep tau kelas 4 sekolah dasar eh blok\n",
      "mohon tepatilah janjimu penantiancintaeps19\n",
      "beria natural killer kahwin gatal celah kangkang penat kg orang anggap nih bujang kerja and ser\n",
      "ingatkan habanero pedas 10 kali ganda pedas gila\n",
      "tengok drama cinta kristalatu conversation anak iyeee perempuan\n",
      "butuh interaksi 95l 99l yuk line ayo mutualan ku follow auto ikuti oke rt\n",
      "streak\n",
      "nunggun video nih retweet full\n",
      "kisah bf adek kawan perempuan adek kawan laki over nak mengadu nak cite send\n",
      "high\n",
      "malam undangan opening hungerbelt spazio temani laaaahhh siiisssss\n",
      "\n",
      "ramai sifu2 properti approach join kelas investment etcemua cerita beli rumah murah sewakan\n",
      "lecturer suruh tampal note kat tengok nak tampal kat muka crush\n",
      "20thn nikah umur 23 orang 23thn nglamar 24thn sih\n",
      "terdengar perbualan budak sekolah natural killer amik a level natural killer amik asasi asasi oke matrik kakak\n",
      "outin sih outin bayar deh\n",
      "gampaang tau\n",
      "makan makan nih mereput je kat rumah hadap orang nih haiz\n",
      "threado as promised natural killer citer pengalaman ambil teh kurus pil kurus it was 2013 2014 tuince everyone was si\n",
      "kaget lihat teman kabar nya menikah hati taarufnya tercium kabarnya\n",
      "mbaknya link jepang main\n",
      "hyung kanibal\n",
      "jajanin kak\n",
      "\n",
      "hi adakan give away nih give away nya album bts love yourself answers hore follow retwee\n",
      "rumah anagram besok malam minggu\n",
      "jumat malam 2 kawan mobil sebawah apartemen diurabaya barat b guys maaf ya a k\n",
      "kampus minum kopi ketemu orang orang podo takok e lapo mengubah sosyeti a\n",
      "\n",
      "x deh adab budak nih pinjam buku\n",
      "popular weh maaf blur x paham maksud hg\n",
      "broimak video ribka tjiptaning penulis buku bangga anak partai komunis indonesia setuju partai komunis indonesia\n",
      "mandi dicerahami nyonya intinya tobat habis iniiap komandan\n",
      "penjual suruh tebuk lubang tahan 30 natural killer 3 x hb\n",
      "kengkawan suka cari nak translate bahasa jawa haha nih anak jawa\n",
      "11 13 20\n",
      "cowok 2jt nih\n",
      "tls followan ayo rep rt berteman\n",
      "antra bebanyak pondan malaysia nih viviana nih iya bercakap content ive never thought iya komuniti ki\n",
      "lepas tengok film onetwojaga time intern kerja contractor quantityurvey juruuk\n",
      "bertahan sayang terpaksa kapel\n",
      "sok pergi klinik muntah tengok carta organisasi buatkan nak tergelak nih hai\n",
      "ya allah tertawa goler2 trit iniiii\n",
      "perangai still babi menampak kahwin\n",
      "siang happy friday salat jumat nya lupa ya habis kegiatan latihan bareng tim j si\n",
      "kawan tips dietebab cuti just makan nih diet and sem kurus giler kakak\n",
      "nge rt\n",
      "ciri sayang someone gelap suka putih suka hensem\n",
      "ayat penipuan 1 jap 2 on the way 3 study 4 kredit 5 pakai duit kakak\n",
      "izinkan mengupload\n",
      "lupa salat dzuhurnya\n",
      "life skang simplekan je suka layan je penat natural killer jaga hati orang je pikir\n",
      "salam suami exo korea\n",
      "pinjam lighter bang pinjam lighter jap oke light kena berdiri jap sedup pam hembus nak\n",
      "tidur buka kipas orang aircond takut the kitten sejuk bangun approximately every 2 hours just menangis l\n",
      "7 00 p pagi malam ya pagiudah coba trik pancing memancing kayak b\n",
      "mamak nih nak try\n",
      "tomorrow i will date yesterdays film unduh sedih k start film duk pikir t\n",
      "ngatau nih bang definisi berhasil\n",
      "\n",
      "main ww deg degan mulu wkwk id\n",
      "jual\n",
      "wow belikan\n",
      "amin ustazah pening kepala me takpelah awak tulis je awak laratampai suruh hantar buku tara\n",
      "time gaduh je english automatic power time exam kena gaduh\n",
      "ramai sifu2 properti approach join kelas investment etcemua cerita beli rumah murah sewakan\n",
      "salat jumat letsfridaypray\n",
      "giveaway ina only adakah menunggu wdtv gila kayak help 1 1 doa\n",
      "semoga salah 3ahabat beruntung pulsa 50k ya lupa like ajak 3 teman\n",
      "je tukar tayar myvi sepasang rm 450 semalam\n",
      "halo berselancar twit belanja gmarket menemukan km beli album gmarket\n",
      "nak nih ti\n",
      "pipi nya cubit pipi nya cium\n",
      "best tengok ikan pon pulau makan roti perbuatan salah ikan\n",
      "bacanya sih mengetik wkwk\n",
      "giveaway pulsa 20k 1 orang pemenang retweet follow akun ya pemenang mengumumkan tangga\n",
      "\n",
      "pas mengajar privat adik kakak muridnya adik pekan spore miss si\n",
      "dok bayang alien keluaq dada\n",
      "adik darjah 5 masuk bilik pantun bread is rotihadow is bayangebelum akak mati better\n",
      "fastga gifwinner palinguka pakai banget yoon as the cutest and mino pampers him\n",
      "laki je ayat nih lahai\n",
      "diam kalah kadang berdebat orang menolak mendengarkan\n",
      "tengok nih\n",
      "tls followan ayo rep rt berteman\n",
      "isteri sehat semalam pagi jam 6 30am hantar anak anak tadikan taska but to\n",
      "haha bawa tas selempang kemana\n",
      "jalur arah kampung\n",
      "rlt suka jb2 yuk followan butuh teman mengobrol butuh pengikut rt ya\n",
      "best tengok ikan pon pulau makan roti perbuatan salah ikan\n",
      "bersungguh nak jaga je berhenti berpura2 jaga memaksa perl\n",
      "ab budak cinta exo mutualan ayo rt rep ya nya janji ikuti kenalan ya\n",
      "sih which is banget english literally international language prefer bah\n",
      "benda nak bawa gurau 1 rupa paras 2 bentuk badan 3 insecurities contohnya gagap pas\n",
      "pakai bagpack\n",
      "meninggal harap orang post gambar kubur letak caption lebaq sedekah al\n",
      "ingatkan berhari data orang cari langsong\n"
     ]
    }
   ],
   "source": [
    "# for i in range(100):\n",
    "#     print(df.iloc(0)[i][1])"
   ]
  },
  {
   "cell_type": "code",
   "execution_count": null,
   "metadata": {},
   "outputs": [],
   "source": [
    "# df.dropna(inplace=True)"
   ]
  },
  {
   "cell_type": "code",
   "execution_count": null,
   "metadata": {},
   "outputs": [
    {
     "data": {
      "text/plain": [
       "sentimen    0\n",
       "texts       0\n",
       "dtype: int64"
      ]
     },
     "execution_count": 44,
     "metadata": {},
     "output_type": "execute_result"
    }
   ],
   "source": [
    "# df.isnull().sum()"
   ]
  },
  {
   "cell_type": "code",
   "execution_count": null,
   "metadata": {},
   "outputs": [
    {
     "name": "stdout",
     "output_type": "stream",
     "text": [
      "0    0.0\n",
      "1    2.0\n",
      "2    1.0\n",
      "Name: index, dtype: float64\n"
     ]
    }
   ],
   "source": [
    "# result = df.sentimen.value_counts().reset_index(name='count')"
   ]
  },
  {
   "cell_type": "code",
   "execution_count": null,
   "metadata": {},
   "outputs": [],
   "source": [
    "# import matplotlib.pyplot as plt"
   ]
  },
  {
   "cell_type": "code",
   "execution_count": null,
   "metadata": {},
   "outputs": [
    {
     "data": {
      "image/png": "[encoded data removed]",
      "text/plain": [
       "<Figure size 1000x700 with 1 Axes>"
      ]
     },
     "metadata": {},
     "output_type": "display_data"
    }
   ],
   "source": [
    "# # Figure Size\n",
    "# fig = plt.figure(figsize =(10, 7))\n",
    " \n",
    "# # Horizontal Bar Plot\n",
    "# plt.bar(result['index'], result['count'])\n",
    " \n",
    "# # Show Plot\n",
    "# plt.show()"
   ]
  },
  {
   "cell_type": "code",
   "execution_count": null,
   "metadata": {},
   "outputs": [],
   "source": []
  }
 ],
 "metadata": {
  "kernelspec": {
   "display_name": "Python 3.8.0 64-bit",
   "language": "python",
   "name": "python3"
  },
  "language_info": {
   "codemirror_mode": {
    "name": "ipython",
    "version": 3
   },
   "file_extension": ".py",
   "mimetype": "text/x-python",
   "name": "python",
   "nbconvert_exporter": "python",
   "pygments_lexer": "ipython3",
   "version": "3.8.0"
  },
  "orig_nbformat": 4,
  "vscode": {
   "interpreter": {
    "hash": "7bdd813d99d1f322d9e1d094f9f039e9137416b2463a93fb50de66731cd5ad0e"
   }
  }
 },
 "nbformat": 4,
 "nbformat_minor": 2
}
